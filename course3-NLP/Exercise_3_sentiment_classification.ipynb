{
  "nbformat": 4,
  "nbformat_minor": 0,
  "metadata": {
    "accelerator": "GPU",
    "colab": {
      "name": "Copy of NLP Course - Week 3 Exercise Answer.ipynb",
      "provenance": [],
      "toc_visible": true
    },
    "kernelspec": {
      "display_name": "Python 3",
      "language": "python",
      "name": "python3"
    },
    "language_info": {
      "codemirror_mode": {
        "name": "ipython",
        "version": 3
      },
      "file_extension": ".py",
      "mimetype": "text/x-python",
      "name": "python",
      "nbconvert_exporter": "python",
      "pygments_lexer": "ipython3",
      "version": "3.7.6"
    }
  },
  "cells": [
    {
      "cell_type": "code",
      "metadata": {
        "id": "zX4Kg8DUTKWO"
      },
      "source": [
        "#@title Licensed under the Apache License, Version 2.0 (the \"License\");\n",
        "# you may not use this file except in compliance with the License.\n",
        "# You may obtain a copy of the License at\n",
        "#\n",
        "# https://www.apache.org/licenses/LICENSE-2.0\n",
        "#\n",
        "# Unless required by applicable law or agreed to in writing, software\n",
        "# distributed under the License is distributed on an \"AS IS\" BASIS,\n",
        "# WITHOUT WARRANTIES OR CONDITIONS OF ANY KIND, either express or implied.\n",
        "# See the License for the specific language governing permissions and\n",
        "# limitations under the License."
      ],
      "execution_count": 1,
      "outputs": []
    },
    {
      "cell_type": "markdown",
      "metadata": {
        "id": "xJRwXtjIWn17"
      },
      "source": [
        "<a href=\"https://colab.research.google.com/github/lmoroney/dlaicourse/blob/master/TensorFlow%20In%20Practice/Course%203%20-%20NLP/NLP%20Course%20-%20Week%203%20Exercise%20Answer.ipynb\" target=\"_parent\"><img src=\"https://colab.research.google.com/assets/colab-badge.svg\" alt=\"Open In Colab\"/></a>"
      ]
    },
    {
      "cell_type": "code",
      "metadata": {
        "id": "hmA6EzkQJ5jt"
      },
      "source": [
        "import json\n",
        "import tensorflow as tf\n",
        "import csv\n",
        "import random\n",
        "import numpy as np\n",
        "\n",
        "from tensorflow.keras.preprocessing.text import Tokenizer\n",
        "from tensorflow.keras.preprocessing.sequence import pad_sequences\n",
        "from tensorflow.keras.utils import to_categorical\n",
        "from tensorflow.keras import regularizers\n",
        "\n",
        "\n",
        "embedding_dim = 100\n",
        "max_length = 16\n",
        "trunc_type='post'\n",
        "padding_type='post'\n",
        "oov_tok = \"<OOV>\"\n",
        "training_size=160000\n",
        "test_portion=.1\n",
        "\n",
        "corpus = []\n"
      ],
      "execution_count": 2,
      "outputs": []
    },
    {
      "cell_type": "code",
      "metadata": {
        "colab": {
          "base_uri": "https://localhost:8080/"
        },
        "id": "bM0l_dORKqE0",
        "outputId": "45ece9c7-d2a4-4c33-d0df-842905cf2d63"
      },
      "source": [
        "# Note that I cleaned the Stanford dataset to remove LATIN1 encoding to make it easier for Python CSV reader\n",
        "# You can do that yourself with:\n",
        "# iconv -f LATIN1 -t UTF8 training.1600000.processed.noemoticon.csv -o training_cleaned.csv\n",
        "# I then hosted it on my site to make it easier to use in this notebook\n",
        "\n",
        "!wget --no-check-certificate \\\n",
        "    https://storage.googleapis.com/laurencemoroney-blog.appspot.com/training_cleaned.csv \\\n",
        "    -O /tmp/training_cleaned.csv\n",
        "\n",
        "num_sentences = 0\n",
        "\n",
        "with open(\"/tmp/training_cleaned.csv\") as csvfile:\n",
        "    reader = csv.reader(csvfile, delimiter=',')\n",
        "    for row in reader:\n",
        "        list_item=[]\n",
        "        list_item.append(row[5])\n",
        "        this_label=row[0]\n",
        "        if this_label=='0':\n",
        "            list_item.append(0)\n",
        "        else:\n",
        "            list_item.append(1)\n",
        "        num_sentences = num_sentences + 1\n",
        "        corpus.append(list_item)\n"
      ],
      "execution_count": 3,
      "outputs": [
        {
          "output_type": "stream",
          "text": [
            "--2020-12-19 00:22:07--  https://storage.googleapis.com/laurencemoroney-blog.appspot.com/training_cleaned.csv\n",
            "Resolving storage.googleapis.com (storage.googleapis.com)... 74.125.197.128, 74.125.195.128, 74.125.142.128, ...\n",
            "Connecting to storage.googleapis.com (storage.googleapis.com)|74.125.197.128|:443... connected.\n",
            "HTTP request sent, awaiting response... 200 OK\n",
            "Length: 238942690 (228M) [application/octet-stream]\n",
            "Saving to: ‘/tmp/training_cleaned.csv’\n",
            "\n",
            "/tmp/training_clean 100%[===================>] 227.87M   108MB/s    in 2.1s    \n",
            "\n",
            "2020-12-19 00:22:09 (108 MB/s) - ‘/tmp/training_cleaned.csv’ saved [238942690/238942690]\n",
            "\n"
          ],
          "name": "stdout"
        }
      ]
    },
    {
      "cell_type": "code",
      "metadata": {
        "colab": {
          "base_uri": "https://localhost:8080/"
        },
        "id": "3kxblBUjEUX-",
        "outputId": "c9f22861-5935-4473-b03d-6b351601eec7"
      },
      "source": [
        "print(num_sentences)\n",
        "print(len(corpus))\n",
        "print(corpus[1])"
      ],
      "execution_count": 4,
      "outputs": [
        {
          "output_type": "stream",
          "text": [
            "1600000\n",
            "1600000\n",
            "[\"is upset that he can't update his Facebook by texting it... and might cry as a result  School today also. Blah!\", 0]\n"
          ],
          "name": "stdout"
        }
      ]
    },
    {
      "cell_type": "code",
      "metadata": {
        "id": "ohOGz24lsNAD"
      },
      "source": [
        "sentences=[]\n",
        "labels=[]\n",
        "random.shuffle(corpus)\n",
        "for x in range(training_size):\n",
        "    sentences.append(corpus[x][0])\n",
        "    labels.append(corpus[x][1])\n",
        "\n",
        "\n",
        "tokenizer = Tokenizer()\n",
        "tokenizer.fit_on_texts(sentences)\n",
        "\n",
        "word_index = tokenizer.word_index\n",
        "vocab_size=len(word_index)\n",
        "\n",
        "sequences = tokenizer.texts_to_sequences(sentences)\n",
        "padded = pad_sequences(sequences, maxlen=max_length, padding=padding_type, truncating=trunc_type)\n",
        "\n",
        "split = int(test_portion * training_size)\n",
        "\n",
        "test_sequences = padded[0:split]\n",
        "training_sequences = padded[split:training_size]\n",
        "test_labels = labels[0:split]\n",
        "training_labels = labels[split:training_size]"
      ],
      "execution_count": 5,
      "outputs": []
    },
    {
      "cell_type": "code",
      "metadata": {
        "colab": {
          "base_uri": "https://localhost:8080/"
        },
        "id": "gIrtRem1En3N",
        "outputId": "917374c7-0d4a-4272-85f4-a6dc453376a0"
      },
      "source": [
        "print(vocab_size)\n",
        "print(word_index['i'])"
      ],
      "execution_count": 6,
      "outputs": [
        {
          "output_type": "stream",
          "text": [
            "138469\n",
            "1\n"
          ],
          "name": "stdout"
        }
      ]
    },
    {
      "cell_type": "code",
      "metadata": {
        "colab": {
          "base_uri": "https://localhost:8080/"
        },
        "id": "C1zdgJkusRh0",
        "outputId": "ac1b5029-e093-4ac7-c00a-7b4beac8f972"
      },
      "source": [
        "# Note this is the 100 dimension version of GloVe from Stanford\n",
        "# I unzipped and hosted it on my site to make this notebook easier\n",
        "!wget --no-check-certificate \\\n",
        "    https://storage.googleapis.com/laurencemoroney-blog.appspot.com/glove.6B.100d.txt \\\n",
        "    -O /tmp/glove.6B.100d.txt\n",
        "embeddings_index = {};\n",
        "with open('/tmp/glove.6B.100d.txt') as f:\n",
        "    for line in f:\n",
        "        values = line.split();\n",
        "        word = values[0];\n",
        "        coefs = np.asarray(values[1:], dtype='float32');\n",
        "        embeddings_index[word] = coefs;\n",
        "\n",
        "embeddings_matrix = np.zeros((vocab_size+1, embedding_dim));\n",
        "for word, i in word_index.items():\n",
        "    embedding_vector = embeddings_index.get(word);\n",
        "    if embedding_vector is not None:\n",
        "        embeddings_matrix[i] = embedding_vector;"
      ],
      "execution_count": 7,
      "outputs": [
        {
          "output_type": "stream",
          "text": [
            "--2020-12-19 00:22:20--  https://storage.googleapis.com/laurencemoroney-blog.appspot.com/glove.6B.100d.txt\n",
            "Resolving storage.googleapis.com (storage.googleapis.com)... 74.125.20.128, 74.125.195.128, 74.125.142.128, ...\n",
            "Connecting to storage.googleapis.com (storage.googleapis.com)|74.125.20.128|:443... connected.\n",
            "HTTP request sent, awaiting response... 200 OK\n",
            "Length: 347116733 (331M) [text/plain]\n",
            "Saving to: ‘/tmp/glove.6B.100d.txt’\n",
            "\n",
            "/tmp/glove.6B.100d. 100%[===================>] 331.04M   161MB/s    in 2.1s    \n",
            "\n",
            "2020-12-19 00:22:22 (161 MB/s) - ‘/tmp/glove.6B.100d.txt’ saved [347116733/347116733]\n",
            "\n"
          ],
          "name": "stdout"
        }
      ]
    },
    {
      "cell_type": "code",
      "metadata": {
        "colab": {
          "base_uri": "https://localhost:8080/"
        },
        "id": "71NLk_lpFLNt",
        "outputId": "88ea014e-b4c3-48b0-ec88-6f1e891a8799"
      },
      "source": [
        "print(len(embeddings_matrix))"
      ],
      "execution_count": 8,
      "outputs": [
        {
          "output_type": "stream",
          "text": [
            "138470\n"
          ],
          "name": "stdout"
        }
      ]
    },
    {
      "cell_type": "code",
      "metadata": {
        "id": "iKKvbuEBOGFz",
        "colab": {
          "base_uri": "https://localhost:8080/"
        },
        "outputId": "086ec1c7-5c94-431d-c732-dc4ed02b7cc6"
      },
      "source": [
        "model = tf.keras.Sequential([\n",
        "    tf.keras.layers.Embedding(vocab_size+1, embedding_dim, input_length=max_length, weights=[embeddings_matrix], trainable=False),\n",
        "    tf.keras.layers.Dropout(0.2),\n",
        "    tf.keras.layers.Conv1D(64, 5, activation='relu'),\n",
        "    tf.keras.layers.MaxPooling1D(pool_size=4),\n",
        "    tf.keras.layers.LSTM(64),\n",
        "    tf.keras.layers.Dense(1, activation='sigmoid')\n",
        "])\n",
        "model.compile(loss='binary_crossentropy',optimizer='adam',metrics=['accuracy'])\n",
        "model.summary()\n",
        "\n",
        "num_epochs = 50\n",
        "\n",
        "training_padded = np.array(training_sequences)\n",
        "training_labels = np.array(training_labels)\n",
        "testing_padded = np.array(test_sequences)\n",
        "testing_labels = np.array(test_labels)\n",
        "\n",
        "history = model.fit(training_padded, training_labels, epochs=num_epochs, validation_data=(testing_padded, testing_labels), verbose=2)\n",
        "\n",
        "print(\"Training Complete\")"
      ],
      "execution_count": 9,
      "outputs": [
        {
          "output_type": "stream",
          "text": [
            "Model: \"sequential\"\n",
            "_________________________________________________________________\n",
            "Layer (type)                 Output Shape              Param #   \n",
            "=================================================================\n",
            "embedding (Embedding)        (None, 16, 100)           13847000  \n",
            "_________________________________________________________________\n",
            "dropout (Dropout)            (None, 16, 100)           0         \n",
            "_________________________________________________________________\n",
            "conv1d (Conv1D)              (None, 12, 64)            32064     \n",
            "_________________________________________________________________\n",
            "max_pooling1d (MaxPooling1D) (None, 3, 64)             0         \n",
            "_________________________________________________________________\n",
            "lstm (LSTM)                  (None, 64)                33024     \n",
            "_________________________________________________________________\n",
            "dense (Dense)                (None, 1)                 65        \n",
            "=================================================================\n",
            "Total params: 13,912,153\n",
            "Trainable params: 65,153\n",
            "Non-trainable params: 13,847,000\n",
            "_________________________________________________________________\n",
            "Epoch 1/50\n",
            "4500/4500 - 22s - loss: 0.5675 - accuracy: 0.7002 - val_loss: 0.5300 - val_accuracy: 0.7316\n",
            "Epoch 2/50\n",
            "4500/4500 - 14s - loss: 0.5280 - accuracy: 0.7314 - val_loss: 0.5204 - val_accuracy: 0.7368\n",
            "Epoch 3/50\n",
            "4500/4500 - 14s - loss: 0.5111 - accuracy: 0.7434 - val_loss: 0.5153 - val_accuracy: 0.7425\n",
            "Epoch 4/50\n",
            "4500/4500 - 14s - loss: 0.5003 - accuracy: 0.7506 - val_loss: 0.5095 - val_accuracy: 0.7459\n",
            "Epoch 5/50\n",
            "4500/4500 - 14s - loss: 0.4904 - accuracy: 0.7577 - val_loss: 0.5083 - val_accuracy: 0.7466\n",
            "Epoch 6/50\n",
            "4500/4500 - 14s - loss: 0.4851 - accuracy: 0.7615 - val_loss: 0.5060 - val_accuracy: 0.7491\n",
            "Epoch 7/50\n",
            "4500/4500 - 14s - loss: 0.4784 - accuracy: 0.7656 - val_loss: 0.5131 - val_accuracy: 0.7437\n",
            "Epoch 8/50\n",
            "4500/4500 - 14s - loss: 0.4717 - accuracy: 0.7691 - val_loss: 0.5079 - val_accuracy: 0.7502\n",
            "Epoch 9/50\n",
            "4500/4500 - 13s - loss: 0.4679 - accuracy: 0.7720 - val_loss: 0.5144 - val_accuracy: 0.7470\n",
            "Epoch 10/50\n",
            "4500/4500 - 14s - loss: 0.4647 - accuracy: 0.7749 - val_loss: 0.5031 - val_accuracy: 0.7548\n",
            "Epoch 11/50\n",
            "4500/4500 - 13s - loss: 0.4600 - accuracy: 0.7770 - val_loss: 0.5087 - val_accuracy: 0.7508\n",
            "Epoch 12/50\n",
            "4500/4500 - 14s - loss: 0.4587 - accuracy: 0.7774 - val_loss: 0.5090 - val_accuracy: 0.7484\n",
            "Epoch 13/50\n",
            "4500/4500 - 14s - loss: 0.4562 - accuracy: 0.7803 - val_loss: 0.5099 - val_accuracy: 0.7477\n",
            "Epoch 14/50\n",
            "4500/4500 - 14s - loss: 0.4533 - accuracy: 0.7813 - val_loss: 0.5074 - val_accuracy: 0.7491\n",
            "Epoch 15/50\n",
            "4500/4500 - 14s - loss: 0.4516 - accuracy: 0.7822 - val_loss: 0.5158 - val_accuracy: 0.7486\n",
            "Epoch 16/50\n",
            "4500/4500 - 14s - loss: 0.4491 - accuracy: 0.7837 - val_loss: 0.5157 - val_accuracy: 0.7482\n",
            "Epoch 17/50\n",
            "4500/4500 - 14s - loss: 0.4479 - accuracy: 0.7840 - val_loss: 0.5109 - val_accuracy: 0.7485\n",
            "Epoch 18/50\n",
            "4500/4500 - 14s - loss: 0.4448 - accuracy: 0.7856 - val_loss: 0.5133 - val_accuracy: 0.7480\n",
            "Epoch 19/50\n",
            "4500/4500 - 14s - loss: 0.4446 - accuracy: 0.7855 - val_loss: 0.5158 - val_accuracy: 0.7461\n",
            "Epoch 20/50\n",
            "4500/4500 - 14s - loss: 0.4438 - accuracy: 0.7863 - val_loss: 0.5146 - val_accuracy: 0.7486\n",
            "Epoch 21/50\n",
            "4500/4500 - 14s - loss: 0.4406 - accuracy: 0.7887 - val_loss: 0.5164 - val_accuracy: 0.7459\n",
            "Epoch 22/50\n",
            "4500/4500 - 14s - loss: 0.4402 - accuracy: 0.7887 - val_loss: 0.5194 - val_accuracy: 0.7491\n",
            "Epoch 23/50\n",
            "4500/4500 - 14s - loss: 0.4411 - accuracy: 0.7881 - val_loss: 0.5230 - val_accuracy: 0.7454\n",
            "Epoch 24/50\n",
            "4500/4500 - 13s - loss: 0.4389 - accuracy: 0.7902 - val_loss: 0.5237 - val_accuracy: 0.7464\n",
            "Epoch 25/50\n",
            "4500/4500 - 14s - loss: 0.4393 - accuracy: 0.7884 - val_loss: 0.5214 - val_accuracy: 0.7499\n",
            "Epoch 26/50\n",
            "4500/4500 - 14s - loss: 0.4394 - accuracy: 0.7898 - val_loss: 0.5224 - val_accuracy: 0.7485\n",
            "Epoch 27/50\n",
            "4500/4500 - 14s - loss: 0.4361 - accuracy: 0.7908 - val_loss: 0.5210 - val_accuracy: 0.7481\n",
            "Epoch 28/50\n",
            "4500/4500 - 14s - loss: 0.4342 - accuracy: 0.7922 - val_loss: 0.5266 - val_accuracy: 0.7452\n",
            "Epoch 29/50\n",
            "4500/4500 - 14s - loss: 0.4344 - accuracy: 0.7928 - val_loss: 0.5226 - val_accuracy: 0.7474\n",
            "Epoch 30/50\n",
            "4500/4500 - 14s - loss: 0.4354 - accuracy: 0.7906 - val_loss: 0.5201 - val_accuracy: 0.7481\n",
            "Epoch 31/50\n",
            "4500/4500 - 14s - loss: 0.4323 - accuracy: 0.7935 - val_loss: 0.5204 - val_accuracy: 0.7481\n",
            "Epoch 32/50\n",
            "4500/4500 - 14s - loss: 0.4339 - accuracy: 0.7930 - val_loss: 0.5253 - val_accuracy: 0.7465\n",
            "Epoch 33/50\n",
            "4500/4500 - 14s - loss: 0.4333 - accuracy: 0.7939 - val_loss: 0.5216 - val_accuracy: 0.7476\n",
            "Epoch 34/50\n",
            "4500/4500 - 14s - loss: 0.4326 - accuracy: 0.7950 - val_loss: 0.5228 - val_accuracy: 0.7463\n",
            "Epoch 35/50\n",
            "4500/4500 - 13s - loss: 0.4311 - accuracy: 0.7945 - val_loss: 0.5241 - val_accuracy: 0.7474\n",
            "Epoch 36/50\n",
            "4500/4500 - 14s - loss: 0.4314 - accuracy: 0.7947 - val_loss: 0.5240 - val_accuracy: 0.7483\n",
            "Epoch 37/50\n",
            "4500/4500 - 14s - loss: 0.4304 - accuracy: 0.7948 - val_loss: 0.5205 - val_accuracy: 0.7442\n",
            "Epoch 38/50\n",
            "4500/4500 - 14s - loss: 0.4316 - accuracy: 0.7941 - val_loss: 0.5219 - val_accuracy: 0.7456\n",
            "Epoch 39/50\n",
            "4500/4500 - 14s - loss: 0.4287 - accuracy: 0.7966 - val_loss: 0.5220 - val_accuracy: 0.7472\n",
            "Epoch 40/50\n",
            "4500/4500 - 14s - loss: 0.4302 - accuracy: 0.7940 - val_loss: 0.5271 - val_accuracy: 0.7480\n",
            "Epoch 41/50\n",
            "4500/4500 - 14s - loss: 0.4302 - accuracy: 0.7952 - val_loss: 0.5221 - val_accuracy: 0.7484\n",
            "Epoch 42/50\n",
            "4500/4500 - 14s - loss: 0.4298 - accuracy: 0.7960 - val_loss: 0.5248 - val_accuracy: 0.7490\n",
            "Epoch 43/50\n",
            "4500/4500 - 14s - loss: 0.4279 - accuracy: 0.7970 - val_loss: 0.5204 - val_accuracy: 0.7483\n",
            "Epoch 44/50\n",
            "4500/4500 - 14s - loss: 0.4291 - accuracy: 0.7950 - val_loss: 0.5298 - val_accuracy: 0.7502\n",
            "Epoch 45/50\n",
            "4500/4500 - 13s - loss: 0.4275 - accuracy: 0.7960 - val_loss: 0.5296 - val_accuracy: 0.7463\n",
            "Epoch 46/50\n",
            "4500/4500 - 13s - loss: 0.4280 - accuracy: 0.7959 - val_loss: 0.5254 - val_accuracy: 0.7459\n",
            "Epoch 47/50\n",
            "4500/4500 - 13s - loss: 0.4279 - accuracy: 0.7969 - val_loss: 0.5352 - val_accuracy: 0.7426\n",
            "Epoch 48/50\n",
            "4500/4500 - 14s - loss: 0.4269 - accuracy: 0.7969 - val_loss: 0.5276 - val_accuracy: 0.7447\n",
            "Epoch 49/50\n",
            "4500/4500 - 13s - loss: 0.4264 - accuracy: 0.7977 - val_loss: 0.5294 - val_accuracy: 0.7444\n",
            "Epoch 50/50\n",
            "4500/4500 - 14s - loss: 0.4265 - accuracy: 0.7977 - val_loss: 0.5245 - val_accuracy: 0.7423\n",
            "Training Complete\n"
          ],
          "name": "stdout"
        }
      ]
    },
    {
      "cell_type": "code",
      "metadata": {
        "id": "qxju4ItJKO8F",
        "colab": {
          "base_uri": "https://localhost:8080/",
          "height": 609
        },
        "outputId": "95d323fb-1eaf-44d2-fd73-7ddb1398aaae"
      },
      "source": [
        "import matplotlib.image  as mpimg\n",
        "import matplotlib.pyplot as plt\n",
        "\n",
        "#-----------------------------------------------------------\n",
        "# Retrieve a list of list results on training and test data\n",
        "# sets for each training epoch\n",
        "#-----------------------------------------------------------\n",
        "acc=history.history['accuracy']\n",
        "val_acc=history.history['val_accuracy']\n",
        "loss=history.history['loss']\n",
        "val_loss=history.history['val_loss']\n",
        "\n",
        "epochs=range(len(acc)) # Get number of epochs\n",
        "\n",
        "#------------------------------------------------\n",
        "# Plot training and validation accuracy per epoch\n",
        "#------------------------------------------------\n",
        "plt.plot(epochs, acc, 'r')\n",
        "plt.plot(epochs, val_acc, 'b')\n",
        "plt.title('Training and validation accuracy')\n",
        "plt.xlabel(\"Epochs\")\n",
        "plt.ylabel(\"Accuracy\")\n",
        "plt.legend([\"Accuracy\", \"Validation Accuracy\"])\n",
        "\n",
        "plt.figure()\n",
        "\n",
        "#------------------------------------------------\n",
        "# Plot training and validation loss per epoch\n",
        "#------------------------------------------------\n",
        "plt.plot(epochs, loss, 'r')\n",
        "plt.plot(epochs, val_loss, 'b')\n",
        "plt.title('Training and validation loss')\n",
        "plt.xlabel(\"Epochs\")\n",
        "plt.ylabel(\"Loss\")\n",
        "plt.legend([\"Loss\", \"Validation Loss\"])\n",
        "\n",
        "plt.figure()\n",
        "\n",
        "\n",
        "# Expected Output\n",
        "# A chart where the validation loss does not increase sharply!"
      ],
      "execution_count": 10,
      "outputs": [
        {
          "output_type": "execute_result",
          "data": {
            "text/plain": [
              "<Figure size 432x288 with 0 Axes>"
            ]
          },
          "metadata": {
            "tags": []
          },
          "execution_count": 10
        },
        {
          "output_type": "display_data",
          "data": {
            "image/png": "[encoded data removed]",
            "text/plain": [
              "<Figure size 432x288 with 1 Axes>"
            ]
          },
          "metadata": {
            "tags": [],
            "needs_background": "light"
          }
        },
        {
          "output_type": "display_data",
          "data": {
            "image/png": "[encoded data removed]",
            "text/plain": [
              "<Figure size 432x288 with 1 Axes>"
            ]
          },
          "metadata": {
            "tags": [],
            "needs_background": "light"
          }
        },
        {
          "output_type": "display_data",
          "data": {
            "text/plain": [
              "<Figure size 432x288 with 0 Axes>"
            ]
          },
          "metadata": {
            "tags": []
          }
        }
      ]
    }
  ]
}